{
  "nbformat": 4,
  "nbformat_minor": 0,
  "metadata": {
    "colab": {
      "provenance": [],
      "authorship_tag": "ABX9TyNf23MQtokTxStcZgCYdBRN",
      "include_colab_link": true
    },
    "kernelspec": {
      "name": "python3",
      "display_name": "Python 3"
    },
    "language_info": {
      "name": "python"
    }
  },
  "cells": [
    {
      "cell_type": "markdown",
      "metadata": {
        "id": "view-in-github",
        "colab_type": "text"
      },
      "source": [
        "<a href=\"https://colab.research.google.com/github/MisGall10/Practica_15_Misael_Gallardo/blob/main/Practica15MAGC.ipynb\" target=\"_parent\"><img src=\"https://colab.research.google.com/assets/colab-badge.svg\" alt=\"Open In Colab\"/></a>"
      ]
    },
    {
      "cell_type": "markdown",
      "source": [
        "# **Practica #15. Datos Temporales**\n",
        "\n",
        "El objetivo de esta actividad es que los estudiantes practiquen los temas vistos de limpieza y transformación de datos categóricos.\n",
        "\n",
        "Instrucciones:\n",
        "\n",
        "1. Descarga el archivo airdata.csv, proporcionado en esta tarea. También lo puedes encontrar en recursos.\n",
        "2. Crea un notebook en colab y guarda el archivo csv  en tu drive.\n",
        "3. Agrega secciones en el colab poniendo como título el nombre de cada ejercicio"
      ],
      "metadata": {
        "id": "k0x2pfZ75SQV"
      }
    },
    {
      "cell_type": "code",
      "source": [
        "from google.colab import drive\n",
        "drive.mount('/content/drive')"
      ],
      "metadata": {
        "colab": {
          "base_uri": "https://localhost:8080/"
        },
        "id": "TGFSzNyJGnDa",
        "outputId": "e373d565-d196-4640-c9f1-62ba8872b9c0"
      },
      "execution_count": 1,
      "outputs": [
        {
          "output_type": "stream",
          "name": "stdout",
          "text": [
            "Mounted at /content/drive\n"
          ]
        }
      ]
    },
    {
      "cell_type": "markdown",
      "source": [
        "---\n",
        "**Ejercicio 01:Tipo de Datos Correcto**\n",
        "\n",
        "1. Carga el conjunto de datos airdata.csv y verifica que cada columna tenga el tipo de datos correcto\n",
        "2. Si una columna de tipo temporal no está en el tipo de correcto realiza la conversión.\n",
        "3. Usa dtypes para mostrar que cada columna, principalmente la que contiene datos temporales, está en el tipo de datos correcto\n",
        "4. Imprime las primeras tres líneas"
      ],
      "metadata": {
        "id": "7tYtYARN5gg7"
      }
    },
    {
      "cell_type": "code",
      "source": [
        "#Importamos la biblioteca de pandas para leer el archivo y ver su tipo de datos\n",
        "import pandas as pd\n",
        "#Cargamos el conjunto de datos y verificamos los tipos de datos de cada columna\n",
        "df = pd.read_csv('/content/drive/MyDrive/ClassFiles/Programacion/Unidad02/Airdata.csv')\n",
        "print('Tipo de datos antes de la correccion:')\n",
        "print(df.dtypes)\n",
        "print('\\n')\n",
        "#Convertimos la columna 'DateTime' a el tipo correcto\n",
        "df['DateTime'] = pd.to_datetime(df['DateTime'])\n",
        "#Verificamos los tipos de datos de cada columna\n",
        "print('Tipo de datos despues de la correccion:')\n",
        "print(df.dtypes)\n",
        "print('\\n')\n",
        "#Imprimimos las primeras 3 lineas del dataframe\n",
        "print('Primeras 3 lineas del dataframe: ')\n",
        "print(df.head(3))"
      ],
      "metadata": {
        "colab": {
          "base_uri": "https://localhost:8080/"
        },
        "id": "ctYOrorT51Ol",
        "outputId": "ce5282b8-97a1-4b16-c244-37cd6616fd9e"
      },
      "execution_count": 8,
      "outputs": [
        {
          "output_type": "stream",
          "name": "stdout",
          "text": [
            "Tipo de datos antes de la correccion:\n",
            "DateTime           object\n",
            "Temperature       float64\n",
            "Humidity            int64\n",
            "Wind_Speed        float64\n",
            "Wind_Direction    float64\n",
            "NO2_Location_A    float64\n",
            "NO2_Location_B    float64\n",
            "NO2_Location_C    float64\n",
            "dtype: object\n",
            "\n",
            "\n",
            "Tipo de datos despues de la correccion:\n",
            "DateTime          datetime64[ns]\n",
            "Temperature              float64\n",
            "Humidity                   int64\n",
            "Wind_Speed               float64\n",
            "Wind_Direction           float64\n",
            "NO2_Location_A           float64\n",
            "NO2_Location_B           float64\n",
            "NO2_Location_C           float64\n",
            "dtype: object\n",
            "\n",
            "\n",
            "Primeras 3 lineas del dataframe: \n",
            "             DateTime  Temperature  Humidity  Wind_Speed  Wind_Direction  \\\n",
            "0 2020-01-01 00:00:00     2.180529        87    1.484318        75.96376   \n",
            "1 2020-01-01 01:00:00     1.490529        89    2.741678       113.19859   \n",
            "2 2020-01-01 02:00:00     1.690529        85    3.563818       135.00000   \n",
            "\n",
            "   NO2_Location_A  NO2_Location_B  NO2_Location_C  \n",
            "0           39.23           52.88           62.37  \n",
            "1           38.30           44.95           52.53  \n",
            "2             NaN           48.40           54.80  \n"
          ]
        }
      ]
    },
    {
      "cell_type": "markdown",
      "source": [
        "---\n",
        "\n",
        "**Ejercicio 02: Extraer componentes de fecha y tiempo**\n",
        "\n",
        "1. De la columna 'DateTime' extrae el año, mes, día y hora. Crea una nueva columna para cada componente que extraes\n",
        "2. Imprime las primeras tres líneas del dataframe que ahora deberá tener 4 nuevas columnas."
      ],
      "metadata": {
        "id": "R3VpMJ1l51e0"
      }
    },
    {
      "cell_type": "code",
      "source": [
        "#De la columna 'DateTime' extraemos el año, mes, dia y hora y la asigamos una\n",
        "#nueva columna para cada componente extraido\n",
        "df['Year'] = df['DateTime'].dt.year\n",
        "df['Month'] = df['DateTime'].dt.month\n",
        "df['Day'] = df['DateTime'].dt.day\n",
        "df['Hour'] = df['DateTime'].dt.hour\n",
        "#Imprimimos las primeras 3 lineas del dataframe que ahora debera tener 4 columnas nuevas\n",
        "print(df.head(3))\n"
      ],
      "metadata": {
        "colab": {
          "base_uri": "https://localhost:8080/"
        },
        "id": "YIA35DRy6Ap9",
        "outputId": "c3ed2aa0-cbf4-4e05-e397-d911e8ec5959"
      },
      "execution_count": 20,
      "outputs": [
        {
          "output_type": "stream",
          "name": "stdout",
          "text": [
            "             DateTime  Temperature  Humidity  Wind_Speed  Wind_Direction  \\\n",
            "0 2020-01-01 00:00:00     2.180529        87    1.484318        75.96376   \n",
            "1 2020-01-01 01:00:00     1.490529        89    2.741678       113.19859   \n",
            "2 2020-01-01 02:00:00     1.690529        85    3.563818       135.00000   \n",
            "\n",
            "   NO2_Location_A  NO2_Location_B  NO2_Location_C  Year  Month  Day  Hour  \n",
            "0           39.23           52.88           62.37  2020      1    1     0  \n",
            "1           38.30           44.95           52.53  2020      1    1     1  \n",
            "2             NaN           48.40           54.80  2020      1    1     2  \n"
          ]
        }
      ]
    },
    {
      "cell_type": "markdown",
      "source": [
        "---\n",
        "\n",
        "**Ejercicio 03: Aritmética - Suma de Intervalos (timedelta)**\n",
        "\n",
        "* Suma 10 días, 7 horas y 15 minutos a cada elemento de la columna 'DateTime'. Guarda el resultado en una nueva columna y agrega al dataframe.\n",
        "* Imprime la columna 'DateTime' y la columna que resulta de sumar 10 días, 7 horas y 15 minutos."
      ],
      "metadata": {
        "id": "YciofRCK6A3h"
      }
    },
    {
      "cell_type": "code",
      "source": [
        "#Sumamos 10 dias, 7 horas y 15 minutos a cada elemento de la columnas 'Datetime'\n",
        "#Y guardamos el resultado en una nueva columna llamada 'New_Date'\n",
        "df['NewDate'] = df['DateTime'] + pd.Timedelta(days=10, hours=7, minutes=15)\n",
        "#Imprimimos las columnas 'DateTime' y 'NewDate'\n",
        "print(df[['DateTime', 'NewDate']])"
      ],
      "metadata": {
        "colab": {
          "base_uri": "https://localhost:8080/"
        },
        "id": "SGMObJwH6H0p",
        "outputId": "7a9a3046-7287-4a88-b582-411dadbc43f4"
      },
      "execution_count": 21,
      "outputs": [
        {
          "output_type": "stream",
          "name": "stdout",
          "text": [
            "                DateTime             NewDate\n",
            "0    2020-01-01 00:00:00 2020-01-11 07:15:00\n",
            "1    2020-01-01 01:00:00 2020-01-11 08:15:00\n",
            "2    2020-01-01 02:00:00 2020-01-11 09:15:00\n",
            "3    2020-01-01 03:00:00 2020-01-11 10:15:00\n",
            "4    2020-01-01 04:00:00 2020-01-11 11:15:00\n",
            "...                  ...                 ...\n",
            "8779 2020-12-31 19:00:00 2021-01-11 02:15:00\n",
            "8780 2020-12-31 20:00:00 2021-01-11 03:15:00\n",
            "8781 2020-12-31 21:00:00 2021-01-11 04:15:00\n",
            "8782 2020-12-31 22:00:00 2021-01-11 05:15:00\n",
            "8783 2020-12-31 23:00:00 2021-01-11 06:15:00\n",
            "\n",
            "[8784 rows x 2 columns]\n"
          ]
        }
      ]
    },
    {
      "cell_type": "markdown",
      "source": [
        "----\n",
        "**Ejercicio 04: Timestamp**\n",
        "\n",
        "* Convierte la columna 'DateTime' la cual tiene un formato de fecha legible a a timestamp Unix. Guarda el resultado en una nueva columna\n",
        "* Imprime las primeras tres filas de  la columna 'DateTime' y la columna que representa dicha fecha en timestamp Unix"
      ],
      "metadata": {
        "id": "vCc2FZHo6ICe"
      }
    },
    {
      "cell_type": "code",
      "source": [
        "#Convertimos la columna 'DateTime' a timestamp unix y guardamos el resultado en\n",
        "#Una nueva columna\n",
        "df['Timestamp'] = (df['DateTime'] - pd.Timestamp(\"1970-01-01\")) // pd.Timedelta('1s')\n",
        "#Imprimimos las 3 primeras filas de la columna 'DateTime' y 'Timestamp'\n",
        "print(df[['DateTime', 'Timestamp']].head(3))"
      ],
      "metadata": {
        "colab": {
          "base_uri": "https://localhost:8080/"
        },
        "id": "kmIcEAoA6OCG",
        "outputId": "60d28c31-dc8d-4855-8aee-d1e59af9bc29"
      },
      "execution_count": 22,
      "outputs": [
        {
          "output_type": "stream",
          "name": "stdout",
          "text": [
            "             DateTime   Timestamp\n",
            "0 2020-01-01 00:00:00  1577836800\n",
            "1 2020-01-01 01:00:00  1577840400\n",
            "2 2020-01-01 02:00:00  1577844000\n"
          ]
        }
      ]
    },
    {
      "cell_type": "markdown",
      "source": [
        "**Ejercicio 05: Filtrado de Fechas**\n",
        "\n",
        "* Utiliza la columna 'DateTime' y Filtra aquellas fechas que son mayores a 2020-11-01\n",
        "* Imprime el resultado"
      ],
      "metadata": {
        "id": "qgsdPcdZ6OSP"
      }
    },
    {
      "cell_type": "code",
      "source": [
        "#Utilizamos la columna 'DateTime' y filtramos aquellas fechas que son mayores a\n",
        "#2020-11-01\n",
        "df_filtered = df[df['DateTime'] > '2020-11-01']\n",
        "#Imprimimos el resultado\n",
        "print(df_filtered)"
      ],
      "metadata": {
        "colab": {
          "base_uri": "https://localhost:8080/"
        },
        "id": "hXF_bBNF6SPf",
        "outputId": "35d9416c-a31f-4fb6-c505-e420d800b505"
      },
      "execution_count": 23,
      "outputs": [
        {
          "output_type": "stream",
          "name": "stdout",
          "text": [
            "                DateTime  Temperature  Humidity  Wind_Speed  Wind_Direction  \\\n",
            "7321 2020-11-01 01:00:00    13.620529        58    6.638072       130.60129   \n",
            "7322 2020-11-01 02:00:00    13.980529        40    6.618519       157.61987   \n",
            "7323 2020-11-01 03:00:00    13.010529        43    8.209263       164.74487   \n",
            "7324 2020-11-01 04:00:00    12.190529        51    7.568566       154.65382   \n",
            "7325 2020-11-01 05:00:00    12.510529        59    7.594208       148.57043   \n",
            "...                  ...          ...       ...         ...             ...   \n",
            "8779 2020-12-31 19:00:00     4.920528        72    4.553680       251.56506   \n",
            "8780 2020-12-31 20:00:00     4.990529        74    3.259939       186.34020   \n",
            "8781 2020-12-31 21:00:00     4.360529        84   10.587917       252.18112   \n",
            "8782 2020-12-31 22:00:00     3.820528        88    8.435069       219.80557   \n",
            "8783 2020-12-31 23:00:00     3.170529        89    6.792466       212.00539   \n",
            "\n",
            "      NO2_Location_A  NO2_Location_B  NO2_Location_C  Year  Month  Day  Hour  \\\n",
            "7321           17.50           23.88           44.07  2020     11    1     1   \n",
            "7322           13.38           18.92           35.80  2020     11    1     2   \n",
            "7323           11.95           13.95           30.15  2020     11    1     3   \n",
            "7324           10.10           14.35           31.45  2020     11    1     4   \n",
            "7325           10.30           14.42           32.55  2020     11    1     5   \n",
            "...              ...             ...             ...   ...    ...  ...   ...   \n",
            "8779           53.44           32.65           66.82  2020     12   31    19   \n",
            "8780           49.80           34.03           67.31  2020     12   31    20   \n",
            "8781           43.32           25.55           59.33  2020     12   31    21   \n",
            "8782           39.88           19.90           43.70  2020     12   31    22   \n",
            "8783           39.04           30.33           46.87  2020     12   31    23   \n",
            "\n",
            "                 NewDate   Timestamp  \n",
            "7321 2020-11-11 08:15:00  1604192400  \n",
            "7322 2020-11-11 09:15:00  1604196000  \n",
            "7323 2020-11-11 10:15:00  1604199600  \n",
            "7324 2020-11-11 11:15:00  1604203200  \n",
            "7325 2020-11-11 12:15:00  1604206800  \n",
            "...                  ...         ...  \n",
            "8779 2021-01-11 02:15:00  1609441200  \n",
            "8780 2021-01-11 03:15:00  1609444800  \n",
            "8781 2021-01-11 04:15:00  1609448400  \n",
            "8782 2021-01-11 05:15:00  1609452000  \n",
            "8783 2021-01-11 06:15:00  1609455600  \n",
            "\n",
            "[1463 rows x 14 columns]\n"
          ]
        }
      ]
    }
  ]
}